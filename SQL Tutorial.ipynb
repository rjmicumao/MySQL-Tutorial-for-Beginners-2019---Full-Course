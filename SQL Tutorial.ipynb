{
 "cells": [
  {
   "cell_type": "markdown",
   "metadata": {},
   "source": [
    "# What is Database? "
   ]
  },
  {
   "cell_type": "markdown",
   "metadata": {},
   "source": [
    "###### ang DATABASE ay collection ng data stored in a format that can easily be accessed"
   ]
  },
  {
   "cell_type": "markdown",
   "metadata": {},
   "source": [
    "# What is DBMS?"
   ]
  },
  {
   "cell_type": "markdown",
   "metadata": {},
   "source": [
    "##### DBMSor Database Management System ay ang ginagamit para e-access ang mga data stored sa ating database. "
   ]
  },
  {
   "cell_type": "markdown",
   "metadata": {},
   "source": [
    "# May dalawang klase ng DBMS"
   ]
  },
  {
   "cell_type": "markdown",
   "metadata": {},
   "source": [
    "##### 1. Relational\n",
    "##### 2. Non- Relational ( No SQL)"
   ]
  },
  {
   "cell_type": "markdown",
   "metadata": {},
   "source": [
    "# What is Relational database? "
   ]
  },
  {
   "cell_type": "markdown",
   "metadata": {},
   "source": [
    "##### RELATIONAL DATABASE ay isang klase ng database na kung saan ang mga data na stored sa mga tables ay linked ng relation. Kumbaga table A ay may relasyon sa table B."
   ]
  },
  {
   "cell_type": "markdown",
   "metadata": {},
   "source": [
    "##### Madaming mga nagbibigay ng services sa RDBMS (relational DBMS) gaya ng MySQL, SQL server at Oracle"
   ]
  },
  {
   "cell_type": "code",
   "execution_count": 3,
   "metadata": {},
   "outputs": [],
   "source": [
    "# What is non-relational Database\n",
    "# Non- Relational Database ay database na walang relation ang data. "
   ]
  },
  {
   "cell_type": "markdown",
   "metadata": {},
   "source": [
    "# Creating Database"
   ]
  },
  {
   "cell_type": "markdown",
   "metadata": {},
   "source": [
    "# Selecting data from database"
   ]
  },
  {
   "cell_type": "code",
   "execution_count": 8,
   "metadata": {},
   "outputs": [],
   "source": [
    "# first e need mo munang select yung data na gusto mo.You can select the database that you want by using the keyword"
   ]
  },
  {
   "cell_type": "markdown",
   "metadata": {},
   "source": [
    "##### USE name_ng_database ;"
   ]
  },
  {
   "cell_type": "code",
   "execution_count": 6,
   "metadata": {},
   "outputs": [],
   "source": [
    "#   --> hindi case sensitive ang mga functions ng sql,pero rule of thumb, caps mo mga functions.  \n",
    "                             # dont forget the semicolon (;) as termination of the line of code "
   ]
  },
  {
   "cell_type": "code",
   "execution_count": 4,
   "metadata": {},
   "outputs": [],
   "source": [
    "# after mo maselect yung database na gusto mo, you need na to select yung mga database na gusto mo. how? ganito.  "
   ]
  },
  {
   "cell_type": "markdown",
   "metadata": {},
   "source": [
    "##### SELECT customer_id FROM customer  ; "
   ]
  },
  {
   "cell_type": "code",
   "execution_count": 9,
   "metadata": {},
   "outputs": [],
   "source": [
    "# SELECT is a function then followed by anong column ang gusto mong e-select which is sa example sa taas e customer_is\n",
    "# FROM is a function na nagsasabi KUNG SAANG TABLE mo kukunin yung data. \n",
    "\n",
    "# so ung code sa taas means, Kunin mo yung customer_id na column sa customer na table. "
   ]
  },
  {
   "cell_type": "markdown",
   "metadata": {},
   "source": [
    "##### SELECT * FROM customer ;"
   ]
  },
  {
   "cell_type": "code",
   "execution_count": 10,
   "metadata": {},
   "outputs": [],
   "source": [
    "# yung code sa taas means, kunin mo LAHAT (*), * means lahat ng column , sa table na customer. "
   ]
  },
  {
   "cell_type": "markdown",
   "metadata": {},
   "source": [
    "##### SELECT * FROM customer WHERE customer_id = 1"
   ]
  },
  {
   "cell_type": "code",
   "execution_count": 11,
   "metadata": {},
   "outputs": [],
   "source": [
    "# Yung code sa taas means, kunin mo lahat ng columns sa table na customer na kung saan ang customer_id ay 1.\n",
    "# NOTE that the result is depende kung ilang customer ang may ID na 1. pero ID siya so magiging unique siya. so iisang row lang."
   ]
  },
  {
   "cell_type": "markdown",
   "metadata": {},
   "source": [
    "##### SELECT * FROM customer WHERE gender = M ORDER BY first_name"
   ]
  },
  {
   "cell_type": "code",
   "execution_count": null,
   "metadata": {},
   "outputs": [],
   "source": [
    "# this means that you select all the columns in customer table in which are males and ORDER/ARRANGE them by the first name\n",
    "# so magkakaroon ka ng table na naka-arrange yung mga first name alphabitacally na mga lalaki. ;) "
   ]
  },
  {
   "cell_type": "markdown",
   "metadata": {},
   "source": [
    "#####  NOTE: May tamang syntax or ayos yung mga functions.   Mauuna ang SELECT , then followed by FROM , then susunod ang WHERE , pang last ang ORDER BY. "
   ]
  },
  {
   "cell_type": "markdown",
   "metadata": {},
   "source": [
    "# SELECT CLAUSE"
   ]
  },
  {
   "cell_type": "code",
   "execution_count": 12,
   "metadata": {},
   "outputs": [],
   "source": [
    "# ang select clause ay ginagamit para e-select yung mga columns na gusto mo. \n",
    "# it is better na name the columns na gusto kasi kung asterisk * ang gagamitin mo\n",
    "# it will take time and network also para macall yung mga data na gusto mo"
   ]
  },
  {
   "cell_type": "markdown",
   "metadata": {},
   "source": [
    "##### SELECT firstname, lastname FROM customers"
   ]
  },
  {
   "cell_type": "code",
   "execution_count": 14,
   "metadata": {},
   "outputs": [],
   "source": [
    "# yung code sa taas ay magseselect ng columns firstname at lastname sa table natin\n",
    "# sa table na customer"
   ]
  },
  {
   "cell_type": "code",
   "execution_count": null,
   "metadata": {},
   "outputs": [],
   "source": [
    "###### If masyado ng mahaba yung line mo kunwari\n",
    "###### SELECT firstname, lastname, points,  FROM customers\n",
    "###### You can break yung mga lines mo. mas readable pa. "
   ]
  },
  {
   "cell_type": "markdown",
   "metadata": {},
   "source": [
    "##### SELECT  \n",
    "###### ---->lastname,\n",
    "###### ---->firstname,\n",
    "###### ---->points\n",
    "##### FROM customer"
   ]
  },
  {
   "cell_type": "code",
   "execution_count": 15,
   "metadata": {},
   "outputs": [],
   "source": [
    "# ----> indention lang yan para mapakita na hindi sila naka align sa SELECT"
   ]
  },
  {
   "cell_type": "markdown",
   "metadata": {},
   "source": [
    "##### SELECT  \n",
    "###### ---->lastname,\n",
    "###### ---->firstname,\n",
    "###### ---->points\n",
    "###### ---->points + 10\n",
    "##### FROM customer"
   ]
  },
  {
   "cell_type": "code",
   "execution_count": 16,
   "metadata": {},
   "outputs": [],
   "source": [
    "# yung code sa taas, specially yung points + 10, \n",
    "# pwede kang magkaroon ng calculations sa mga intergers ang values. \n",
    "# yung code sa taas ay mag-a-add ng new column na points + 10 sa OUTPUT na \n",
    "# table mo. \n",
    "\n",
    "# NOTE: hindi siya magdadagdag ng new column sa TABLE mo sa database mo. "
   ]
  },
  {
   "cell_type": "code",
   "execution_count": 17,
   "metadata": {},
   "outputs": [],
   "source": [
    "# pwede mo ding palitan yung name ng column na gusto mong output. \n",
    "# kunwari yung points+ 10 e gusto mong pangalanan na discounts"
   ]
  },
  {
   "cell_type": "markdown",
   "metadata": {},
   "source": [
    "# Aliasing  --> function   AS"
   ]
  },
  {
   "cell_type": "markdown",
   "metadata": {},
   "source": [
    "##### SELECT  \n",
    "###### ---->lastname,\n",
    "###### ---->firstname,\n",
    "###### ---->points\n",
    "###### ---->points + 10 AS discounts\n",
    "##### FROM customer"
   ]
  },
  {
   "cell_type": "code",
   "execution_count": 18,
   "metadata": {},
   "outputs": [],
   "source": [
    "# so sa OUTPUT mo e magkakaroon ng mga columns na\n",
    "\n",
    "# lastname | firstname | points | discounts |"
   ]
  },
  {
   "cell_type": "markdown",
   "metadata": {},
   "source": [
    "# DISTINCT "
   ]
  },
  {
   "cell_type": "code",
   "execution_count": 19,
   "metadata": {},
   "outputs": [],
   "source": [
    "# ginagamit yung code na distinct para e-output ang mga gusto mo na hindi repeated \n",
    "# na information sa table mo. "
   ]
  },
  {
   "cell_type": "code",
   "execution_count": 20,
   "metadata": {},
   "outputs": [],
   "source": [
    "# Example: \n",
    "# sa cities na column, may mga customers na same ang cities, kunwari taga San Manuel"
   ]
  },
  {
   "cell_type": "markdown",
   "metadata": {},
   "source": [
    "##### SELECT DISTINCT cities \n",
    "##### FROM customers"
   ]
  },
  {
   "cell_type": "markdown",
   "metadata": {},
   "source": [
    "# WHERE CLAUSE"
   ]
  },
  {
   "cell_type": "code",
   "execution_count": 2,
   "metadata": {},
   "outputs": [],
   "source": [
    "# ginagamit ang WHERE clause para e-filter ang mga data. \n",
    "# may mga conditions kang dapat gawin. \n",
    "# ginagamit yung mga following equality symbols"
   ]
  },
  {
   "cell_type": "markdown",
   "metadata": {},
   "source": [
    "##### >       greater than\n",
    "##### >=      greater than or equal to\n",
    "##### <       lesser than\n",
    "##### <=      greater than or equal to\n",
    "##### =       equal to\n",
    "##### !=      not equal to. \n",
    "##### <>      not equal to. same lang sila"
   ]
  },
  {
   "cell_type": "code",
   "execution_count": 3,
   "metadata": {},
   "outputs": [],
   "source": [
    "# example kung papaano siya gawin or gamitin"
   ]
  },
  {
   "cell_type": "markdown",
   "metadata": {},
   "source": [
    "##### SELECT *\n",
    "##### FROM customers\n",
    "##### WHERE points >200"
   ]
  },
  {
   "cell_type": "code",
   "execution_count": 7,
   "metadata": {},
   "outputs": [],
   "source": [
    "# Yung code sa taas means that SELECT all ng mga columns \n",
    "# FROM (sa) customers na table\n",
    "# WHERE (na kung saan) ang points ay mas malaki (>) sa 200"
   ]
  },
  {
   "cell_type": "code",
   "execution_count": 5,
   "metadata": {},
   "outputs": [],
   "source": [
    "# pwede mo ding gawin na ganito"
   ]
  },
  {
   "cell_type": "markdown",
   "metadata": {},
   "source": [
    "##### SELECT *\n",
    "##### FROM customers\n",
    "##### WHERE birth_date > '1990-01-01'"
   ]
  },
  {
   "cell_type": "code",
   "execution_count": 6,
   "metadata": {},
   "outputs": [],
   "source": [
    "# code sa taas means lahat ng mga customers na pinanganak AFTER (>) 1990-01-01\n",
    "# year first, then month, then date. if date siya, ilalagay siya sa quotations marks."
   ]
  },
  {
   "cell_type": "markdown",
   "metadata": {},
   "source": [
    "# AND , OR and NOT operators"
   ]
  },
  {
   "cell_type": "markdown",
   "metadata": {},
   "source": [
    "# AND\n",
    "##### SELECT *\n",
    "##### FROM customers\n",
    "##### WHERE birth_date >= '1990-01-01' AND points > 1000"
   ]
  },
  {
   "cell_type": "code",
   "execution_count": 8,
   "metadata": {},
   "outputs": [],
   "source": [
    "# yung code sa WHERE means that lahat ng may birthdate na equal or after ng 1990-01-01 AND (at saka) may points na 1000\n",
    "# note na kapag AND gagamitin mo, dapat lahat ng conditions mameet!"
   ]
  },
  {
   "cell_type": "markdown",
   "metadata": {},
   "source": [
    "# OR\n",
    "##### SELECT *\n",
    "##### FROM customers\n",
    "##### WHERE birth_date >= '1990-01-01' OR points > 1000"
   ]
  },
  {
   "cell_type": "code",
   "execution_count": 9,
   "metadata": {},
   "outputs": [],
   "source": [
    "# ginagamit ang OR kung atleast isa sa mga conditions ay gusto mong ma meet. \n",
    "# atleast isa sa sakanila. "
   ]
  },
  {
   "cell_type": "markdown",
   "metadata": {},
   "source": [
    "# NOT\n",
    "##### SELECT *\n",
    "##### FROM customers\n",
    "##### WHERE NOT (birth_date > '1990-01-01' OR points > 1000)"
   ]
  },
  {
   "cell_type": "code",
   "execution_count": 13,
   "metadata": {},
   "outputs": [],
   "source": [
    "# NOT is the negation of the expression or code. \n",
    "# so yung code sa taas means yung mga data entry na \n",
    "# mayroong HINDI more than 1990-01-01 na birthday \n",
    "# AND (at saka) \n",
    "# may hindi mas malaki sa 1000 points\n",
    "# Example"
   ]
  },
  {
   "cell_type": "markdown",
   "metadata": {},
   "source": [
    "##### NOT > ----  <=\n",
    "##### NOT < ----  <=\n",
    "##### NOT = ----  !=\n",
    "##### NOT >= ----  <\n",
    "##### NOT <= ----  >\n",
    "##### NOT OR ----  AND\n",
    "##### NOT AND ---- OR"
   ]
  },
  {
   "cell_type": "markdown",
   "metadata": {},
   "source": [
    "# ___ AND ____ OR _____ AND _____ OR___ sinong mauuna?"
   ]
  },
  {
   "cell_type": "markdown",
   "metadata": {},
   "source": [
    "##### WHERE birth_date >= '1990-01-01' OR points > 1000 AND cities ='baguio' "
   ]
  },
  {
   "cell_type": "code",
   "execution_count": 10,
   "metadata": {},
   "outputs": [],
   "source": [
    "# NOTE: Mas nauuna ang AND bago ang OR. so sa example sa taas. \n",
    "# gagawin niya muna ung points > 1000 AND cities = \"baguio\""
   ]
  },
  {
   "cell_type": "markdown",
   "metadata": {},
   "source": [
    "# IN Clause"
   ]
  },
  {
   "cell_type": "code",
   "execution_count": 14,
   "metadata": {},
   "outputs": [],
   "source": [
    "#kunware gusto mo ng ganitong code"
   ]
  },
  {
   "cell_type": "markdown",
   "metadata": {},
   "source": [
    "##### WHERE city = 'baguio' OR city ='urdaneta' OR city = 'tarlac'"
   ]
  },
  {
   "cell_type": "code",
   "execution_count": 15,
   "metadata": {},
   "outputs": [],
   "source": [
    "# pwede mo sila e-merge lahat ng iyan sa mas maliit na code. "
   ]
  },
  {
   "cell_type": "markdown",
   "metadata": {},
   "source": [
    "##### WHERE city IN ('baguio', 'urdaneta', 'tarlac')"
   ]
  },
  {
   "cell_type": "markdown",
   "metadata": {},
   "source": [
    "# BETWEEN Clause"
   ]
  },
  {
   "cell_type": "code",
   "execution_count": 16,
   "metadata": {},
   "outputs": [],
   "source": [
    "# ginagamit ang BETWEEN na clause pamalit sa sobrang ha na code. \n",
    "# kunwari ganito"
   ]
  },
  {
   "cell_type": "markdown",
   "metadata": {},
   "source": [
    "##### WHERE points >= 1000 AND points <= 3000"
   ]
  },
  {
   "cell_type": "code",
   "execution_count": 17,
   "metadata": {},
   "outputs": [],
   "source": [
    "# pwede mong gamitin yung function na BETWEEN"
   ]
  },
  {
   "cell_type": "markdown",
   "metadata": {},
   "source": [
    "##### WHERE points BETWEEN 1000 AND 3000"
   ]
  },
  {
   "cell_type": "code",
   "execution_count": 19,
   "metadata": {},
   "outputs": [],
   "source": [
    "# NOTE that inclusive yong BETWEEN na function. ibig sabihin nasa range siya ng\n",
    "# 1000 to 3000 including 1000 and 3000"
   ]
  },
  {
   "cell_type": "markdown",
   "metadata": {},
   "source": [
    "##### USE sql_store;\n",
    "##### SELECT *\n",
    "##### FROM customers\n",
    "##### WHERE birth_date BETWEEN '1990-01-01' AND '2000-01-01'"
   ]
  },
  {
   "cell_type": "code",
   "execution_count": 20,
   "metadata": {},
   "outputs": [],
   "source": [
    "# pwede ding gumamit ng date na function"
   ]
  },
  {
   "cell_type": "markdown",
   "metadata": {},
   "source": [
    "# LIKE Clause and % symbol"
   ]
  },
  {
   "cell_type": "code",
   "execution_count": 21,
   "metadata": {},
   "outputs": [],
   "source": [
    "# ginagamit ang LIKE clause if you are not certain sa mga kinukuha mo na data. \n",
    "# example e want mo na kunin yung mga last name na nagsisimula sa letter \"M\""
   ]
  },
  {
   "cell_type": "markdown",
   "metadata": {},
   "source": [
    "##### WHERE last_name LIKE \"m%\""
   ]
  },
  {
   "cell_type": "code",
   "execution_count": 23,
   "metadata": {},
   "outputs": [],
   "source": [
    "# ang result ng code sa taas ay mga listahan na ang apelyedo ay nagsisimula s M\n",
    "\n",
    "# Micumao\n",
    "# Mabon\n",
    "# Malag\n",
    "\n",
    "# ung % sa code means any character that follows AFTER ng letter na \"m\"\n",
    "# pwede mo ding sabihin na \"M\"it does not matter if captial letter or small letter yung gagamitin mo\n",
    "# pwede mo din ilagay yung % sign before the character."
   ]
  },
  {
   "cell_type": "markdown",
   "metadata": {},
   "source": [
    "##### WHERE last_name LIKE \"%m%\""
   ]
  },
  {
   "cell_type": "code",
   "execution_count": 24,
   "metadata": {},
   "outputs": [],
   "source": [
    "#ibig sabihin ng code jan sa taas e kahit anong last name basta may m sa gitna. hindi pweding nasa last or unahan"
   ]
  },
  {
   "cell_type": "code",
   "execution_count": 26,
   "metadata": {},
   "outputs": [],
   "source": [
    "# Other Examples"
   ]
  },
  {
   "cell_type": "markdown",
   "metadata": {},
   "source": [
    "##### USE sql_store;\n",
    "##### SELECT *\n",
    "##### FROM customers\n",
    "##### WHERE address LIKE \"%trail%\" OR address LIKE \"%avenue%\" "
   ]
  },
  {
   "cell_type": "markdown",
   "metadata": {},
   "source": [
    "# _ underscore sign"
   ]
  },
  {
   "cell_type": "markdown",
   "metadata": {},
   "source": [
    "##### WHERE last_name LIKE \"m_\""
   ]
  },
  {
   "cell_type": "code",
   "execution_count": 25,
   "metadata": {},
   "outputs": [],
   "source": [
    "# ang ibig sabihin ng code sa taas ay kung saan ang last name mo at 2 (two) chracters lang\n",
    "# Mi\n",
    "# Mo\n",
    "# MM"
   ]
  },
  {
   "cell_type": "markdown",
   "metadata": {},
   "source": [
    "##### so if \"m_ _ _\" apat na characters which is M ang start ng letter so pweding Micu ,Mars,"
   ]
  },
  {
   "cell_type": "markdown",
   "metadata": {},
   "source": [
    "# REGEXP --> Regular Expression"
   ]
  },
  {
   "cell_type": "code",
   "execution_count": 27,
   "metadata": {},
   "outputs": [],
   "source": [
    "# Ginagamit ang REGEXP kung hindi mo sure yung mga sinirearch mo. Mas maganda siya gamitin kaysa kay LIKE"
   ]
  },
  {
   "cell_type": "markdown",
   "metadata": {},
   "source": [
    "##### 1.) WHERE last_name LIKE \"%m%\"\n",
    "##### 2.) WHERE last_name REGEXP \"m\""
   ]
  },
  {
   "cell_type": "code",
   "execution_count": 30,
   "metadata": {},
   "outputs": [],
   "source": [
    "# yung number 1 code e kapag gagamit ka ng LIKE\n",
    "# yung number 2 code e kapag gagamitin ka ng REGEXP. \n",
    "\n",
    "# tignan ang pagkakaiba. yung LIKE you need % sign. sa REGEXP e hindi na kailangan. \n",
    "\n",
    "# same lang sila ng ginagawa ng function na yan. Tinitignan nila sa Database kung sino\n",
    "# ang may \"m\" na letter sa name nila. \n",
    "# pero sa REGEXP e possible na nasa last at unahan. Still valid parin siya"
   ]
  },
  {
   "cell_type": "markdown",
   "metadata": {},
   "source": [
    "# ^ Caret Symbol"
   ]
  },
  {
   "cell_type": "code",
   "execution_count": 29,
   "metadata": {},
   "outputs": [],
   "source": [
    "# ginagamit ang Caret (^) na symnbol para sabihin na it should be this letter or letters\n",
    "# ang makikita sa harap. \n",
    "\n",
    "# NOTE: sa HARAP a. IN FRONT!"
   ]
  },
  {
   "cell_type": "markdown",
   "metadata": {},
   "source": [
    "##### 1.) WHERE last_name LIKE \"m%\"\n",
    "##### 2.) WHERE last_name REGEXP \"^m\""
   ]
  },
  {
   "cell_type": "code",
   "execution_count": 31,
   "metadata": {},
   "outputs": [],
   "source": [
    "# Ibig sabihin ng codes sa taas e mga last names na nagsisimula sa letter M lang. "
   ]
  },
  {
   "cell_type": "markdown",
   "metadata": {},
   "source": [
    "# $ Dollar Symbol"
   ]
  },
  {
   "cell_type": "code",
   "execution_count": 33,
   "metadata": {},
   "outputs": [],
   "source": [
    "# Ginagagamit naman ang $ symbol kung ang gusto mong kunin ay\n",
    "# yung LAST letter/s ng pangalan\n",
    "# EXample"
   ]
  },
  {
   "cell_type": "markdown",
   "metadata": {},
   "source": [
    "##### 1.) WHERE last_name LIKE \"%m\"\n",
    "##### 2.) WHERE last_name REGEXP \"m$\""
   ]
  },
  {
   "cell_type": "markdown",
   "metadata": {},
   "source": [
    "# | Vertical Bar Symbol"
   ]
  },
  {
   "cell_type": "code",
   "execution_count": 34,
   "metadata": {},
   "outputs": [],
   "source": [
    "# Ginagamit ang | vertical bar kung gagamit ka ng OR na function. \n",
    "# Example"
   ]
  },
  {
   "cell_type": "markdown",
   "metadata": {},
   "source": [
    "##### 1.) WHERE last_name LIKE \"m\"  or last_name LIKE \"a\"\n",
    "##### 2.) WHERE last_name REGEXP \" m | a\""
   ]
  },
  {
   "cell_type": "code",
   "execution_count": 35,
   "metadata": {},
   "outputs": [],
   "source": [
    "# yung code sa taas ay both ang ginagawa nila. \n",
    "# they are taking last names that has letter M or letter A in the name. "
   ]
  },
  {
   "cell_type": "code",
   "execution_count": 40,
   "metadata": {},
   "outputs": [],
   "source": [
    "# pwede din na"
   ]
  },
  {
   "cell_type": "markdown",
   "metadata": {},
   "source": [
    "##### WHERE last_name REGEXP \" m | a | e\""
   ]
  },
  {
   "cell_type": "markdown",
   "metadata": {},
   "source": [
    "# [ ] Square brackets Symbol"
   ]
  },
  {
   "cell_type": "code",
   "execution_count": 36,
   "metadata": {},
   "outputs": [],
   "source": [
    "# Ginagamit ang [] square bracket na symbol if you want to have combinations ng names or leeters\n",
    "# Example"
   ]
  },
  {
   "cell_type": "markdown",
   "metadata": {},
   "source": [
    "##### 1.) WHERE last_name LIKE \"  a m \"  or last_name LIKE \" e m \" or last_name LIKE \" a m \"\n",
    "##### 2.) WHERE last_name REGEXP \" [ a , e , i ] m\""
   ]
  },
  {
   "cell_type": "code",
   "execution_count": 38,
   "metadata": {},
   "outputs": [],
   "source": [
    "# pwede mo din siyang ilagay sa dulo. "
   ]
  },
  {
   "cell_type": "markdown",
   "metadata": {},
   "source": [
    "##### WHERE last_name REGEXP \"  m [ a , e , i ]\""
   ]
  },
  {
   "cell_type": "markdown",
   "metadata": {},
   "source": [
    "# [ - ] Square brackets Symbol with Hypen"
   ]
  },
  {
   "cell_type": "code",
   "execution_count": 42,
   "metadata": {},
   "outputs": [],
   "source": [
    "# we are using [ - ]  square brackets with hypen inside to do a range. \n",
    "\n",
    "# Example"
   ]
  },
  {
   "cell_type": "markdown",
   "metadata": {},
   "source": [
    "##### WHERE phone_number REGEXP \"  [ 0 - 5  ] 9 $ \""
   ]
  },
  {
   "cell_type": "code",
   "execution_count": 47,
   "metadata": {},
   "outputs": [],
   "source": [
    "# YUng code sa taas means lahat ng number na may \n",
    "# beginning numbers or 0 upto 5 then 9 sa last na digit.\n",
    "\n",
    "# _ _ _ _ _ _ _ 0 9\n",
    "# _ _ _ _ _ _ _ 1 9\n",
    "# _ _ _ _ _ _ _ 3 9\n",
    "# _ _ _ _ _ _ _ 2 9\n",
    "# _ _ _ _ _ _ _ 5 9\n",
    "# _ _ _ _ _ _ _ 4 9"
   ]
  },
  {
   "cell_type": "markdown",
   "metadata": {},
   "source": [
    "##### WHERE last_name REGEXP \"  [ a - c  ] m $ \""
   ]
  },
  {
   "cell_type": "code",
   "execution_count": 52,
   "metadata": {},
   "outputs": [],
   "source": [
    "# YUng code sa taas means lahat ng last name na may \n",
    "# beginning letters na a upto c then m sa last na letter.\n",
    "\n",
    "# _ _ _ _ a m\n",
    "# _ _ _ _ b m\n",
    "# _ _ _ _ c m"
   ]
  },
  {
   "cell_type": "markdown",
   "metadata": {},
   "source": [
    "# Exercise Test\n",
    "\n",
    "##### Exercise 1 : Get the customers whose first_names are ELKA and AMBUR\n",
    "##### Exercise 2 :  last_names end with EY or ON\n",
    "##### Exercise 3 :  last_names start with MY or contains SE\n",
    "##### Exercise 4 :  last_names contain B followed by R or U"
   ]
  },
  {
   "cell_type": "code",
   "execution_count": 53,
   "metadata": {},
   "outputs": [],
   "source": [
    "# USE sql_store;\n",
    "# SELECT *\n",
    "# FROM customers\n",
    "# WHERE first_name REGEXP \"ELKA|AMBUR\""
   ]
  },
  {
   "cell_type": "code",
   "execution_count": 54,
   "metadata": {},
   "outputs": [],
   "source": [
    "# USE sql_store;\n",
    "# SELECT *\n",
    "# FROM customers\n",
    "# WHERE last_name REGEXP \"EY$|ON$\"\n"
   ]
  },
  {
   "cell_type": "code",
   "execution_count": 55,
   "metadata": {},
   "outputs": [],
   "source": [
    "# USE sql_store;\n",
    "# SELECT *\n",
    "# FROM customers\n",
    "# WHERE last_name REGEXP \"^MY|SE\""
   ]
  },
  {
   "cell_type": "code",
   "execution_count": 56,
   "metadata": {},
   "outputs": [],
   "source": [
    "# USE sql_store;\n",
    "# SELECT *\n",
    "# FROM customers\n",
    "# WHERE last_name REGEXP \"b[r,u]\""
   ]
  },
  {
   "cell_type": "markdown",
   "metadata": {},
   "source": [
    "# RIGHT and LEFT function"
   ]
  },
  {
   "cell_type": "code",
   "execution_count": 93,
   "metadata": {},
   "outputs": [],
   "source": [
    "# RIGHT and LEFT function are used to search information starting from the RIGHT or LEFT character\n",
    "# Example: "
   ]
  },
  {
   "cell_type": "code",
   "execution_count": 96,
   "metadata": {},
   "outputs": [],
   "source": [
    "# Table_A\n",
    "\n",
    "# id_number  #   name   # products\n",
    "#  123abc    #   John   # aso\n",
    "#  456def    #   Jhon   # kat\n",
    "#  313asd    #   Nojh   # dog\n",
    "#  789qwe    #   onhj   # mew"
   ]
  },
  {
   "cell_type": "markdown",
   "metadata": {},
   "source": [
    "##### SELECT RIGHT('id_number', 3) AS id_num;\n",
    "##### FROM Table_A"
   ]
  },
  {
   "cell_type": "code",
   "execution_count": 101,
   "metadata": {},
   "outputs": [],
   "source": [
    "# Result ng code sa taas. \n",
    "\n",
    "# id_num  \n",
    "#  abc    \n",
    "#  def    \n",
    "#  asd    \n",
    "#  qwe   "
   ]
  },
  {
   "cell_type": "markdown",
   "metadata": {},
   "source": [
    "##### SELECT LEFT('id_number', 3) AS id_num;\n",
    "##### FROM Table_A"
   ]
  },
  {
   "cell_type": "code",
   "execution_count": 100,
   "metadata": {},
   "outputs": [],
   "source": [
    "# Result ng code sa taas\n",
    "\n",
    "# id_num  \n",
    "#  123    \n",
    "#  456    \n",
    "#  313    \n",
    "#  789   "
   ]
  },
  {
   "cell_type": "markdown",
   "metadata": {},
   "source": [
    "# IS NULL na Operator"
   ]
  },
  {
   "cell_type": "code",
   "execution_count": 57,
   "metadata": {},
   "outputs": [],
   "source": [
    "# Ginagamit ang IS NULL para hanapin yung mga NULL. \n",
    "# NULL means walang laman, no data, walang impormasyon na naka save. "
   ]
  },
  {
   "cell_type": "markdown",
   "metadata": {},
   "source": [
    "##### WHERE last_name IS NULL"
   ]
  },
  {
   "cell_type": "code",
   "execution_count": 58,
   "metadata": {},
   "outputs": [],
   "source": [
    "# yung code sa taas means, hanpin mo nga yung mga data natin sa customers table \n",
    "# na WALANG lastname."
   ]
  },
  {
   "cell_type": "markdown",
   "metadata": {},
   "source": [
    "# ORDER BY  ---> Sorting Data"
   ]
  },
  {
   "cell_type": "code",
   "execution_count": 59,
   "metadata": {},
   "outputs": [],
   "source": [
    "# ginagamit ito para i-sort yung mga data natin sa database. simple lang siya"
   ]
  },
  {
   "cell_type": "markdown",
   "metadata": {},
   "source": [
    "##### USE sql_store;\n",
    "##### SELECT *\n",
    "##### FROM customers\n",
    "##### ORDER BY first_name"
   ]
  },
  {
   "cell_type": "code",
   "execution_count": 63,
   "metadata": {},
   "outputs": [],
   "source": [
    "# maglalabas siya ng table na naka-arrange yung mga first names ALPHABETICALY\n",
    "# NOTE! this is ASCENDING ORDER\n",
    "\n",
    "# Arvin\n",
    "# Budoy\n",
    "# Canggaro\n",
    "# Engkanto\n",
    "# ...\n",
    "# Zuko"
   ]
  },
  {
   "cell_type": "markdown",
   "metadata": {},
   "source": [
    "# DESC way of ordering"
   ]
  },
  {
   "cell_type": "markdown",
   "metadata": {},
   "source": [
    "##### ORDER BY first_name DESC"
   ]
  },
  {
   "cell_type": "code",
   "execution_count": 62,
   "metadata": {},
   "outputs": [],
   "source": [
    "# yung code sa taas mag-a-arrange ng mga first name na magsisimula sa Z. \n",
    "\n",
    "# zuko\n",
    "# Yemio\n",
    "# Xayah\n",
    "# ...\n",
    "# Arvin"
   ]
  },
  {
   "cell_type": "markdown",
   "metadata": {},
   "source": [
    "### paano kapag ganito?\n",
    "### ORDER BY first_name DESC , last_name"
   ]
  },
  {
   "cell_type": "code",
   "execution_count": 64,
   "metadata": {},
   "outputs": [],
   "source": [
    "# yung code sa taas means, \n",
    "# FIRST arrange mo yung mga names into DESCENDING ORDER. \n",
    "# THEN, arrange mo sila base sa last name nila in ASCENDING ORDER DIN. \n",
    "\n",
    "# ito yung FIRST_NAME sorting\n",
    "# Zuko Kurimao\n",
    "# Zaio Cumao\n",
    "# Yemio\n",
    "# Xayah\n",
    "# ...\n",
    "# Arvin\n",
    "\n",
    "# LAST_NAME sorting, ito na yung final na result. Take note if anong nagbago sa Z na names\n",
    "# Zaio Cumao\n",
    "# Zuko Kurimao\n",
    "# Yemio\n",
    "# Xayah\n",
    "# ...\n",
    "# Arvin"
   ]
  },
  {
   "cell_type": "code",
   "execution_count": 65,
   "metadata": {},
   "outputs": [],
   "source": [
    "# USE sql_store;\n",
    "# SELECT *\n",
    "# FROM order_items\n",
    "# WHERE order_id = 2\n",
    "# ORDER BY quantity * unit_price DESC"
   ]
  },
  {
   "cell_type": "markdown",
   "metadata": {},
   "source": [
    "# LIMIT CLAUSE"
   ]
  },
  {
   "cell_type": "code",
   "execution_count": 66,
   "metadata": {},
   "outputs": [],
   "source": [
    "# ginagamit ito if want mong bawasan yung mga gusto mong ipakita na result ng \n",
    "# ng kinukuha mong outputs sa database mo. \n",
    "\n",
    "# Example"
   ]
  },
  {
   "cell_type": "markdown",
   "metadata": {},
   "source": [
    "##### SELECT *\n",
    "##### FROM order_items\n",
    "##### WHERE order_id = 2\n",
    "##### LIMIT 3"
   ]
  },
  {
   "cell_type": "code",
   "execution_count": 68,
   "metadata": {},
   "outputs": [],
   "source": [
    "# Yung code sa taas ay magpapakita lang ng tatlong result sa window mo. \n",
    "# Sabihin na nating may 1000 na order_id. It does not matter kahit na 1000 pa\n",
    "# basta ang ilalabas niya lang ay 3 out of 1000"
   ]
  },
  {
   "cell_type": "markdown",
   "metadata": {},
   "source": [
    "##### Paano kapag gusto mong kuning e yung pang yung pang 101 to 150? "
   ]
  },
  {
   "cell_type": "code",
   "execution_count": 69,
   "metadata": {},
   "outputs": [],
   "source": [
    "# Mayroong silang tinatawag na offset. na kung saan, wag niya muna kukunin ganun\n",
    "# let us say from 1000 na output mo, \n",
    "# 101 to 150 ang gusto mong kunin. \n",
    "\n",
    "# so ang offset mo ay 100 data tama? yun yung 1-100 na data point na lalaktawan mo\n",
    "# kasi nga 101 mo gusto magstart. \n",
    "\n",
    "# then want mo yung 101 to 150, so ilang data yun? \n",
    "# that 50 data tama? \n",
    "\n",
    "# so ang code mo ay magiging "
   ]
  },
  {
   "cell_type": "markdown",
   "metadata": {},
   "source": [
    "##### SELECT *\n",
    "##### FROM order_items\n",
    "##### WHERE order_id = 2\n",
    "##### LIMIT 100 , 50"
   ]
  },
  {
   "cell_type": "code",
   "execution_count": 70,
   "metadata": {},
   "outputs": [],
   "source": [
    "# doon sa LIMIT na code, yung 100 doon ay yung offset mo\n",
    "# yung 50 naman e kung ilang data ang ilalabas mo"
   ]
  },
  {
   "cell_type": "markdown",
   "metadata": {},
   "source": [
    "# JOIN --> combining two TABLES in a database"
   ]
  },
  {
   "cell_type": "code",
   "execution_count": 73,
   "metadata": {},
   "outputs": [],
   "source": [
    "# May dalawang klase ng JOIN na function\n",
    "\n",
    "# 1. INNNER JOIN\n",
    "# 2. OUTER JOIN\n",
    "\n",
    "# ginagamit ang JOIN kung meron kang gusto e-compare or e-combine"
   ]
  },
  {
   "cell_type": "markdown",
   "metadata": {},
   "source": [
    "#### Sample Database_A"
   ]
  },
  {
   "cell_type": "code",
   "execution_count": 76,
   "metadata": {},
   "outputs": [],
   "source": [
    "# TABLE_A\n",
    "\n",
    "#   Product   |   Price\n",
    "\n",
    "#      A      |   $ 50\n",
    "#      B      |   $ 5\n",
    "#      C      |   $ 10\n",
    "#      D      |   $ 20\n",
    "#      E      |   $ 9\n",
    "#      F      |   $ 3\n"
   ]
  },
  {
   "cell_type": "code",
   "execution_count": 77,
   "metadata": {},
   "outputs": [],
   "source": [
    "# TABLE_B\n",
    "\n",
    "#   Product   |   Unit\n",
    "\n",
    "#      A      |   1\n",
    "#      B      |   6\n",
    "#      C      |   3\n",
    "#      G      |   2\n",
    "#      H      |   8\n"
   ]
  },
  {
   "cell_type": "markdown",
   "metadata": {},
   "source": [
    "# INNER JOIN"
   ]
  },
  {
   "cell_type": "code",
   "execution_count": 80,
   "metadata": {},
   "outputs": [],
   "source": [
    "# INNER JOIN means pinagsasamna mo yung dalawang table na yung saan kung anong meron sa table A ay mearon din sa table B\n",
    "# Example"
   ]
  },
  {
   "cell_type": "markdown",
   "metadata": {},
   "source": [
    "##### SELECT *\n",
    "##### FROM TABLE_A\n",
    "##### JOIN TABLE_B ON TABLE_A.Product = TABLE_B.Product"
   ]
  },
  {
   "cell_type": "code",
   "execution_count": 81,
   "metadata": {},
   "outputs": [],
   "source": [
    "# yung code sa taas means\n",
    "# SELECT  * ------> select mo lahat ng columns\n",
    "# FROM TABLE_A  --> sa table na A\n",
    "# JOIN TABLE_B ---> we are now joining table a and table b. \n",
    "# ON  ------------> ginagamit ang ON na function para mag join ang dalawang table. \n",
    "#  Ibig sabihin ng \"ON\" e magjojoin ang dalawang table sa pamamagitan ng product ng table a at b\n",
    "# TABLE_A.Product =  TABLE_B.Product means alin sa mga Product ng table a ang parehas sa product ng table b"
   ]
  },
  {
   "cell_type": "code",
   "execution_count": 83,
   "metadata": {},
   "outputs": [],
   "source": [
    "# ang result ng code sa taas ay:\n",
    "\n",
    "# TABLE_A\n",
    "\n",
    "#   Product   |   Price     |    Unit\n",
    "\n",
    "#      A      |   $ 50      |     1\n",
    "#      B      |   $ 5       |     6\n",
    "#      C      |   $ 10      |     3\n",
    "\n",
    "\n",
    "# NOTE: hindi nasama yung mga ibang products kasi wala naman silang kapareha\n",
    "# or I mean ka EQUAL (=) sa kabilang table. "
   ]
  },
  {
   "cell_type": "markdown",
   "metadata": {},
   "source": [
    "# Aliasing"
   ]
  },
  {
   "cell_type": "code",
   "execution_count": 84,
   "metadata": {},
   "outputs": [],
   "source": [
    "# ginagamit nag aliasing para mas mapadali ang ating code. "
   ]
  },
  {
   "cell_type": "markdown",
   "metadata": {},
   "source": [
    "##### SELECT *\n",
    "##### FROM TABLE_A TA\n",
    "##### JOIN TABLE_B TB ON TA.Product = TB.Product"
   ]
  },
  {
   "cell_type": "code",
   "execution_count": 85,
   "metadata": {},
   "outputs": [],
   "source": [
    "# so instead na maglalagay tayo ng TABLE_A.Product magiging\n",
    "# TA.Product nlng siya kasi we set TABLE_A to TA\n",
    "# same with TABLE_B --> TB"
   ]
  },
  {
   "cell_type": "markdown",
   "metadata": {},
   "source": [
    "# Joining two separate Databases"
   ]
  },
  {
   "cell_type": "code",
   "execution_count": 86,
   "metadata": {},
   "outputs": [],
   "source": [
    "# kunwari meron kang dalawang databases. \n",
    "# Database_A  --> andito yung mga products\n",
    "# Database_B  --> andito kung sino mga nag- order"
   ]
  },
  {
   "cell_type": "code",
   "execution_count": 87,
   "metadata": {},
   "outputs": [],
   "source": [
    "# Database_A\n",
    "\n",
    "# Product\n",
    "\n",
    "#  product_id |   price     |    unit\n",
    "\n",
    "#      A      |   $ 50      |     1\n",
    "#      B      |   $ 5       |     6\n",
    "#      C      |   $ 10      |     3\n",
    "#      D      |   $ 50      |     1\n",
    "#      E      |   $ 5       |     6\n",
    "#      F      |   $ 10      |     3\n",
    "\n",
    "# let us say mayroon tayong anim na products. \n"
   ]
  },
  {
   "cell_type": "code",
   "execution_count": 88,
   "metadata": {},
   "outputs": [],
   "source": [
    "# Database_B\n",
    "\n",
    "# order\n",
    "\n",
    "#  ordert_id | Product_id  |    Name\n",
    "\n",
    "#      1      |     A      |     Tim\n",
    "#      2      |     C      |     Mac\n",
    "#      3      |     D      |     Kay\n",
    "#      4      |     E      |     Siya\n",
    "\n",
    "\n",
    "# let us say mayroon tayong apat na orders by different na customers. hehehe "
   ]
  },
  {
   "cell_type": "code",
   "execution_count": 89,
   "metadata": {},
   "outputs": [],
   "source": [
    "# If we want to join the two tables, ganito gagawin natin"
   ]
  },
  {
   "cell_type": "markdown",
   "metadata": {},
   "source": [
    "##### USE Database_A;\n",
    "##### SELECT p.product_id , price, unit , order_id, name\n",
    "##### FROM Product p\n",
    "##### JOIN Database_B.order o\n",
    "##### ON p.product_id = o.product_id"
   ]
  },
  {
   "cell_type": "code",
   "execution_count": 91,
   "metadata": {},
   "outputs": [],
   "source": [
    "# USE Database_A; --> ibig sabihin gagamitin natin ung database na A\n",
    "\n",
    "# SELECT p.product_id , price, unit , order_id, name --> means we are just selecting yung  mga columns na gusto nating ma output. \n",
    "\n",
    "# FROM Product p --> so ito naman sinasabi natin na kunin mo ung table na Product tas pangalanan mo na \"p\"\n",
    "\n",
    "# JOIN Database_B.order o --> since e-jojoin natin ung dalawang database, kailangan nting e-prefix or idikit kung saan manggagaling yung ibang table natin\n",
    "                          # --> then followed by the \".\" point then anong table ang kukunin, then papangalanan natin siya na \"o\"\n",
    "    \n",
    "# ON p.product_id = o.product_id --> so dito, pinagsasama natin ung dalawang table ng dalawang database base ON product_id nila    "
   ]
  },
  {
   "cell_type": "code",
   "execution_count": 92,
   "metadata": {},
   "outputs": [],
   "source": [
    "# Result ng code sa taas. \n",
    "\n",
    "#  product_id |   price     |    unit  | ordert_id |   name \n",
    "\n",
    "#      A      |   $ 50      |     1    |     1     |  Tim\n",
    "#      C      |   $ 10      |     3    |     2     |  Mac\n",
    "#      D      |   $ 50      |     1    |     3     |  Kay\n",
    "#      E      |   $ 5       |     6    |     4     |  Siya"
   ]
  },
  {
   "cell_type": "markdown",
   "metadata": {},
   "source": [
    "# SELF JOIN"
   ]
  },
  {
   "cell_type": "code",
   "execution_count": 102,
   "metadata": {},
   "outputs": [],
   "source": [
    "# ginagamit ang self join kung meron kang gustong pagsamahin \n",
    "# na columns mo sa loob ng table mo. "
   ]
  },
  {
   "cell_type": "markdown",
   "metadata": {},
   "source": [
    "##### SELECT column_name(s)\n",
    "##### FROM table1 T1, table1 T2\n",
    "##### WHERE condition;"
   ]
  },
  {
   "cell_type": "code",
   "execution_count": 104,
   "metadata": {},
   "outputs": [],
   "source": [
    "# first is to select yung mga columns na gusto mong e-print. \n",
    "# then from same na table, table1 be T1 at table1 be T2. \n",
    "# then anong conditions mo na ipagsasama. "
   ]
  },
  {
   "cell_type": "markdown",
   "metadata": {},
   "source": [
    "# JOINING Multiple Tables"
   ]
  },
  {
   "cell_type": "code",
   "execution_count": 105,
   "metadata": {},
   "outputs": [],
   "source": [
    "# if you are going to join multiple tables, magkakroon ka ng madaming JOIN na function din"
   ]
  },
  {
   "cell_type": "code",
   "execution_count": 106,
   "metadata": {},
   "outputs": [],
   "source": [
    "# Database_A\n",
    "\n",
    "# Products_Table\n",
    "\n",
    "#  product_id |   price     |    unit\n",
    "\n",
    "#      A      |   $ 50      |     1\n",
    "#      B      |   $ 5       |     6\n",
    "#      C      |   $ 10      |     3"
   ]
  },
  {
   "cell_type": "code",
   "execution_count": 107,
   "metadata": {},
   "outputs": [],
   "source": [
    "# Customers_table\n",
    "\n",
    "#  customer_id |   product  |    ship_id\n",
    "\n",
    "#      C01     |     A      |     3\n",
    "#      C02     |     C      |     1\n",
    "#      C03     |     B      |     2"
   ]
  },
  {
   "cell_type": "code",
   "execution_count": 108,
   "metadata": {},
   "outputs": [],
   "source": [
    "# Shipment_Table\n",
    "\n",
    "#  ship_id   |      Status  \n",
    "\n",
    "#      1     |     On the way    \n",
    "#      2     |     Shipped    \n",
    "#      3     |     Not Shipped    "
   ]
  },
  {
   "cell_type": "code",
   "execution_count": 109,
   "metadata": {},
   "outputs": [],
   "source": [
    "# USE Database_A;\n",
    "\n",
    "# SELECT customer_id,\n",
    "#        product,\n",
    "#        unit,\n",
    "#        price,\n",
    "#        status\n",
    "        \n",
    "# FROM Products_Table pt\n",
    "\n",
    "# JOIN Customers_table ct\n",
    "#     ON pt.product_id = ct.products\n",
    "    \n",
    "# JOIN Shipment_Table st\n",
    "#     ON ct.ship_id = st.ship_id\n",
    "    \n",
    "    \n"
   ]
  },
  {
   "cell_type": "markdown",
   "metadata": {},
   "source": [
    "# OUTER JOIN"
   ]
  },
  {
   "cell_type": "code",
   "execution_count": 111,
   "metadata": {},
   "outputs": [],
   "source": [
    "# may dalawang klase ng OUTER JOIN. \n",
    "\n",
    "# 1.) LEFT JOIN\n",
    "# 2.) RIGHT JOIN"
   ]
  },
  {
   "cell_type": "markdown",
   "metadata": {},
   "source": [
    "# LEFT JOIN na clause"
   ]
  },
  {
   "cell_type": "code",
   "execution_count": 112,
   "metadata": {},
   "outputs": [],
   "source": [
    "# Let us say mayroon tayong dalawang tables. \n",
    "\n",
    "# TABLE_A\n",
    "\n",
    "#   Product   |   Price\n",
    "\n",
    "#      A      |   $ 50\n",
    "#      B      |   $ 5\n",
    "#      C      |   $ 10\n",
    "#      D      |   $ 20\n",
    "#      E      |   $ 9\n",
    "#      F      |   $ 3"
   ]
  },
  {
   "cell_type": "code",
   "execution_count": 113,
   "metadata": {},
   "outputs": [],
   "source": [
    "# TABLE_B\n",
    "\n",
    "#   Product   |   Unit\n",
    "\n",
    "#      A      |   1\n",
    "#      B      |   6\n",
    "#      C      |   3\n",
    "#      G      |   2\n",
    "#      H      |   8"
   ]
  },
  {
   "cell_type": "markdown",
   "metadata": {},
   "source": [
    "##### SELECT \n",
    "##### _ _ _ _ _ta.product, \n",
    "##### _ _ _ _ _ta.price, \n",
    "##### _ _ _ _ _tb.unit\n",
    "##### FROM TABLE_A ta\n",
    "##### LEFT JOIN TABLE_B tb\n",
    "#####  _ _ _ _ _ON ta.product = tb.product"
   ]
  },
  {
   "cell_type": "code",
   "execution_count": 114,
   "metadata": {},
   "outputs": [],
   "source": [
    "# ang magiging result niya a\n",
    "\n",
    "#   Product   |   Price     |    Unit\n",
    "\n",
    "#      A      |   $ 50      |     1\n",
    "#      B      |   $ 5       |     6\n",
    "#      C      |   $ 10      |     3\n",
    "#      D      |   $ 20      |     null\n",
    "#      E      |   $ 9       |     null\n",
    "#      F      |   $ 3       |     null"
   ]
  },
  {
   "cell_type": "code",
   "execution_count": 115,
   "metadata": {},
   "outputs": [],
   "source": [
    "# Take note if anong nangyari sa table. \n",
    "# Sa part ng\n",
    "\n",
    "#      A      |   $ 50      |     1\n",
    "#      B      |   $ 5       |     6\n",
    "#      C      |   $ 10      |     3\n",
    "\n",
    "# yang result sa taas ay kung saan nag join ang dalawang tables. Table A and Table b both have A, B and C products\n",
    "\n",
    "\n",
    "\n",
    "#sa baba na result naman e\n",
    "\n",
    "#      D      |   $ 20      |     null\n",
    "#      E      |   $ 9       |     null\n",
    "#      F      |   $ 3       |     null\n",
    "\n",
    "# Nagkaroon siya ng null kasi hindi nagjoin yung table A at table B sa part na yan \n",
    "# KASI yung mga products na DEF ay wala sa table B. \n",
    "\n",
    "# Table A mo ay si LEFT kasi FROM Table_A tayo. "
   ]
  },
  {
   "cell_type": "markdown",
   "metadata": {},
   "source": [
    "##### SELECT \n",
    "##### _ _ _ _ _ta.product, \n",
    "##### _ _ _ _ _ta.price, \n",
    "##### _ _ _ _ _tb.unit\n",
    "##### FROM TABLE_A ta\n",
    "##### RIGHT JOIN TABLE_B tb\n",
    "#####  _ _ _ _ _ON ta.product = tb.product"
   ]
  },
  {
   "cell_type": "code",
   "execution_count": 116,
   "metadata": {},
   "outputs": [],
   "source": [
    "# ang magiging result niya a\n",
    "\n",
    "#   Product   |  Unit    |    Price\n",
    "\n",
    "#      A      |   1      |     $ 50\n",
    "#      B      |   6      |     $ 5\n",
    "#      C      |   3      |     $ 10\n",
    "#      G      |   2      |     null\n",
    "#      H      |   8      |     null\n"
   ]
  },
  {
   "cell_type": "markdown",
   "metadata": {},
   "source": [
    "# USING Clause"
   ]
  },
  {
   "cell_type": "code",
   "execution_count": 117,
   "metadata": {},
   "outputs": [],
   "source": [
    "# ginagamit ang USING na function kung meron kang PAREHAS na \n",
    "# pangalan ng column name sa tables mo. \n",
    "# EXAMPLE\n",
    "\n",
    "# Let us say mayroon tayong dalawang tables. \n",
    "\n",
    "# TABLE_A\n",
    "\n",
    "#   Product   |   Price\n",
    "\n",
    "#      A      |   $ 50\n",
    "#      B      |   $ 5\n",
    "#      C      |   $ 10\n",
    "#      D      |   $ 20\n",
    "#      E      |   $ 9\n",
    "#      F      |   $ 3\n",
    "\n",
    "# TABLE_B\n",
    "\n",
    "#   Product   |   Unit\n",
    "\n",
    "#      A      |   1\n",
    "#      B      |   6\n",
    "#      C      |   3\n",
    "#      G      |   2\n",
    "#      H      |   8"
   ]
  },
  {
   "cell_type": "markdown",
   "metadata": {},
   "source": [
    "##### FROM TABLE_A ta\n",
    "##### LEFT JOIN TABLE_B tb\n",
    "#####  _ _ _ _ _ON ta.product = tb.product"
   ]
  },
  {
   "cell_type": "code",
   "execution_count": 118,
   "metadata": {},
   "outputs": [],
   "source": [
    "# sa part ng ON ta.product = tb.product\n",
    "# pwede mo siyang palitan ng\n",
    "# USING (product)"
   ]
  },
  {
   "cell_type": "markdown",
   "metadata": {},
   "source": [
    "##### FROM TABLE_A ta\n",
    "##### LEFT JOIN TABLE_B tb\n",
    "#####  _ _ _ _ _USING(product) "
   ]
  },
  {
   "cell_type": "code",
   "execution_count": 119,
   "metadata": {},
   "outputs": [],
   "source": [
    "# yung code sa taas e same ng result sa taas. pero mas clear ang result. "
   ]
  },
  {
   "cell_type": "markdown",
   "metadata": {},
   "source": [
    "# UNION na Clause"
   ]
  },
  {
   "cell_type": "code",
   "execution_count": 120,
   "metadata": {},
   "outputs": [],
   "source": [
    "# Ginagamit ang UNION na Clause if meron kang mga pagsasamahin. na columns \n",
    "# either from different tables or same tables. \n",
    "\n",
    "#example\n",
    "\n",
    "# Let us say mayroon tayong dalawang tables. \n",
    "\n",
    "# TABLE_A\n",
    "\n",
    "#   Customer   |   Price\n",
    "\n",
    "#      D      |   $ 20\n",
    "#      E      |   $ 9\n",
    "#      F      |   $ 3\n",
    "\n",
    "# TABLE_B\n",
    "\n",
    "#   Shippers   |   Unit\n",
    "\n",
    "#      A      |   1\n",
    "#      B      |   6\n",
    "#      C      |   3\n",
    "#      G      |   2\n",
    "#      H      |   8"
   ]
  },
  {
   "cell_type": "markdown",
   "metadata": {},
   "source": [
    "##### SELECT customer FROM Table_A\n",
    "##### UNION\n",
    "##### SELECT shippers FROM Table_B"
   ]
  },
  {
   "cell_type": "code",
   "execution_count": 121,
   "metadata": {},
   "outputs": [],
   "source": [
    "# ang result ng snippet sa taas ay\n",
    "\n",
    "#   Customer  \n",
    "\n",
    "#      D    \n",
    "#      E     \n",
    "#      F   \n",
    "#      A    \n",
    "#      B    \n",
    "#      C     \n",
    "#      G      \n",
    "#      H     \n",
    "\n",
    "# TAKE NOTE yung name ng column sa taas. naging CUSTOMER siya kasi yun yung\n",
    "# naung name natin. if want mo siya palitan pwede ganito sa code. \n",
    "\n",
    "\n",
    "# SELECT customer AS Name FROM Table_A\n",
    "# UNION\n",
    "# SELECT shippers FROM Table_B\n",
    "\n",
    "\n",
    "# ang magiging result niya ay\n",
    "\n",
    "#   Name \n",
    "\n",
    "#      D    \n",
    "#      E     \n",
    "#      F   \n",
    "#      A    \n",
    "#      B    \n",
    "#      C     \n",
    "#      G      \n",
    "#      H   "
   ]
  },
  {
   "cell_type": "code",
   "execution_count": 1,
   "metadata": {},
   "outputs": [],
   "source": [
    "# note that hindi pwede na yung sa first na select mo e dalawang column tas ung ipapasok mo sa union e \n",
    "# isang column lang. \n",
    "\n",
    "# example\n",
    "\n",
    "# SELECT customer AS Name, price\n",
    "# FROM Table_A\n",
    "# UNION\n",
    "# SELECT shippers\n",
    "# FROM Table_B\n",
    "\n",
    "# sasabihin ng SQL e hindi pwede!"
   ]
  },
  {
   "cell_type": "markdown",
   "metadata": {},
   "source": [
    "# INSERT INTO --> Inserting Data"
   ]
  },
  {
   "cell_type": "code",
   "execution_count": 2,
   "metadata": {},
   "outputs": [],
   "source": [
    "# Ginagamit ang INSERT INTO na clause if gusto mo mag insert ng data sa table sa database mo"
   ]
  },
  {
   "cell_type": "markdown",
   "metadata": {},
   "source": [
    "##### Syntax if papaano ginagamit. "
   ]
  },
  {
   "cell_type": "markdown",
   "metadata": {},
   "source": [
    "##### INSERT INTO table_name (column1, column2, column3, ...)\n",
    "##### VALUES (value1, value2, value3, ...);"
   ]
  },
  {
   "cell_type": "markdown",
   "metadata": {},
   "source": [
    "# VALUES Clause"
   ]
  },
  {
   "cell_type": "code",
   "execution_count": 3,
   "metadata": {},
   "outputs": [],
   "source": [
    "# Ginagamit ang VALUES na clause para e-list lahat ng values na gusto mong ilagay sa loob ng table mo. "
   ]
  },
  {
   "cell_type": "code",
   "execution_count": 4,
   "metadata": {},
   "outputs": [],
   "source": [
    "# Example na Database natin\n",
    "\n",
    "# Products_table\n",
    "\n",
    "# Product_id  |   Price\n",
    "\n",
    "#      1      |   $ 1\n",
    "#      2      |   $ 6\n",
    "#      3      |   $ 3\n",
    "#      4      |   $ 2\n",
    "#      5      |   $ 8"
   ]
  },
  {
   "cell_type": "code",
   "execution_count": 5,
   "metadata": {},
   "outputs": [],
   "source": [
    "# if gusto mong maginsert ng data sa table mo, ito magiging syntax ng code mo"
   ]
  },
  {
   "cell_type": "markdown",
   "metadata": {},
   "source": [
    "##### INSERT INTO Products_table (Product_id, Price)\n",
    "##### VALUES (6 , $ 10);"
   ]
  },
  {
   "cell_type": "code",
   "execution_count": 6,
   "metadata": {},
   "outputs": [],
   "source": [
    "# Ang magiging result niya ay\n",
    "\n",
    "# Products_table\n",
    "\n",
    "# Product_id  |   Price\n",
    "\n",
    "#      1      |   $ 1\n",
    "#      2      |   $ 6\n",
    "#      3      |   $ 3\n",
    "#      4      |   $ 2\n",
    "#      5      |   $ 8\n",
    "#      6      |   $ 10"
   ]
  },
  {
   "cell_type": "code",
   "execution_count": 10,
   "metadata": {},
   "outputs": [],
   "source": [
    "# may mga time na hindi mo na kailangan maglagay ng id_number sa mga primary key mo\n",
    "# Why? kasi minsan naka auto-increment na sila. so automatic na syang maglalagay sa database. \n",
    "\n",
    "# so pwede mong gawin na ganito yung code mo. "
   ]
  },
  {
   "cell_type": "markdown",
   "metadata": {},
   "source": [
    "##### INSERT INTO Products_table ( Price)\n",
    "##### VALUES ( $ 10);"
   ]
  },
  {
   "cell_type": "code",
   "execution_count": null,
   "metadata": {},
   "outputs": [],
   "source": [
    "# Ang magiging result niya ay\n",
    "\n",
    "# Products_table\n",
    "\n",
    "# Product_id  |   Price\n",
    "\n",
    "#      1      |   $ 1\n",
    "#      2      |   $ 6\n",
    "#      3      |   $ 3\n",
    "#      4      |   $ 2\n",
    "#      5      |   $ 8\n",
    "#      6      |   $ 10\n",
    "\n",
    "# huh? same parin? \n",
    "# Yup same parin. kasi nakaincrement yung product_id na column sa database natin. "
   ]
  },
  {
   "cell_type": "markdown",
   "metadata": {},
   "source": [
    "# PKey ---> Primary Key"
   ]
  },
  {
   "cell_type": "code",
   "execution_count": 9,
   "metadata": {},
   "outputs": [],
   "source": [
    "# ang PKey or Primary Key ay column na kung saan siya yung gagamitin para maaccess\n",
    "# yung mga information para sa table. \n",
    "# Para siyang ID ng isang row ng information. \n",
    "\n",
    "# kumbaga sa studyante e may ID_number tayo dba, \n",
    "# sa database ng school, ita-type lang nila yung ID number mo \n",
    "# Then lalabas na lahat ng information mo like anong name mo, course mo, anong year kana and so on. \n",
    "# kadalasan ng mga Pkey e may \"id\" or \"number\" sa column name nila like order_id, product_id_student_number_ acount_number ..."
   ]
  },
  {
   "cell_type": "markdown",
   "metadata": {},
   "source": [
    "# Inserting multiple rows of data"
   ]
  },
  {
   "cell_type": "code",
   "execution_count": 12,
   "metadata": {},
   "outputs": [],
   "source": [
    "# Let us say may table ka na ganito. \n",
    "\n",
    "# product_table\n",
    "\n",
    "# product_id  |   price  |  name \n",
    "\n",
    "#      1      |    1    |  Maysa\n",
    "#      2      |    6    |  Duwa\n",
    "#      3      |    3    |  Tallo\n",
    "#      4      |    2    |  Uppat\n",
    "#      5      |    8    |  Lima\n",
    "#      6      |    10   |  innem\n",
    "\n",
    "# Then want mo mag-add ng \n",
    "\n",
    "# product 7, price na 11 tas name na pito\n",
    "# product 8, price na 21 tas name na walo\n",
    "# product 9, price na 15 tas name na siam"
   ]
  },
  {
   "cell_type": "markdown",
   "metadata": {},
   "source": [
    "##### INSERT INTO product_table (price, name)\n",
    "##### VALUES (\"11\",\"pito\"),\n",
    "##### _ _ _ _(\"21\",\"walo\"),\n",
    "##### _ _ _ _(\"15\",\"siam\")"
   ]
  },
  {
   "cell_type": "code",
   "execution_count": 13,
   "metadata": {},
   "outputs": [],
   "source": [
    "# Result ng table namin. \n",
    "\n",
    "# product_table\n",
    "\n",
    "# product_id  |   price  |  name \n",
    "\n",
    "#      1      |    1    |  Maysa\n",
    "#      2      |    6    |  Duwa\n",
    "#      3      |    3    |  Tallo\n",
    "#      4      |    2    |  Uppat\n",
    "#      5      |    8    |  Lima\n",
    "#      6      |    10   |  innem\n",
    "#      7      |    11   |  pito\n",
    "#      8      |    21   |  walo\n",
    "#      9      |    15   |  siam"
   ]
  },
  {
   "cell_type": "markdown",
   "metadata": {},
   "source": [
    "# Inserting Hierarchical Rows "
   ]
  },
  {
   "cell_type": "code",
   "execution_count": 1,
   "metadata": {},
   "outputs": [],
   "source": [
    "# kunwari want mong mag insert  ng row na kung saan hindi mo alam yung last na \n",
    "# ID na nilagay ng data mo, Pwede mo gamitin ito, "
   ]
  },
  {
   "cell_type": "markdown",
   "metadata": {},
   "source": [
    "##### LAST_INSESRT_ID ()"
   ]
  },
  {
   "cell_type": "markdown",
   "metadata": {},
   "source": [
    "# CREATING NEW TABLE"
   ]
  },
  {
   "cell_type": "code",
   "execution_count": 2,
   "metadata": {},
   "outputs": [],
   "source": [
    "# kung gusto mong gumawa ng new na table sa database mo, ito lang ang gagawin mo"
   ]
  },
  {
   "cell_type": "code",
   "execution_count": 3,
   "metadata": {},
   "outputs": [],
   "source": [
    "# ganito ang syntax niya"
   ]
  },
  {
   "cell_type": "markdown",
   "metadata": {},
   "source": [
    "##### CREATE TABLE table_name (\n",
    "##### -----column1 datatype,\n",
    "##### -----column2 datatype,\n",
    "##### -----column3 datatype,\n",
    "#####   ....\n",
    "##### );"
   ]
  },
  {
   "cell_type": "code",
   "execution_count": 7,
   "metadata": {},
   "outputs": [],
   "source": [
    "# Example: Gusto mong gumawa ng new table sa mga customers tas anong binili nila\n",
    "\n",
    "# so ang magiging code mo ay. "
   ]
  },
  {
   "cell_type": "markdown",
   "metadata": {},
   "source": [
    "##### CREATE TABLE customers_table (\n",
    "##### -----customer_id int,\n",
    "##### -----name varchar(50),\n",
    "##### -----product_id int,\n",
    "##### );"
   ]
  },
  {
   "cell_type": "code",
   "execution_count": 8,
   "metadata": {},
   "outputs": [],
   "source": [
    "# Yung code sa taas means gawa ka ng customers_table, \n",
    "# Then sa table na yun, gawa ka ng column na ang name ay customer_id at mga integers lang ang pweding laman\n",
    "# Then gawa ka ulit ng isa pang column na may name na \"name\" then ang mga pwede niyang values at varchar at ang limit at 50 characters. varchar is variable characters. maga letters in short.\n",
    "# then gawa ka ng last na colun na may pangalan na product_id, integer lang ang pwede dito"
   ]
  },
  {
   "cell_type": "code",
   "execution_count": null,
   "metadata": {},
   "outputs": [],
   "source": [
    "# result of the code will be like this. \n",
    "\n",
    "# customers_table\n",
    "\n",
    "# customer_id  |   name |  product_id "
   ]
  },
  {
   "cell_type": "code",
   "execution_count": 9,
   "metadata": {},
   "outputs": [],
   "source": [
    "# NOw pwede ka ng mag insert ng rows sa data mo. "
   ]
  },
  {
   "cell_type": "markdown",
   "metadata": {},
   "source": [
    "##### CREATE TABLE customers_table (\n",
    "##### -----customer_id int,\n",
    "##### -----name varchar(50),\n",
    "##### -----product_id int,\n",
    "##### )\n",
    "##### INSERT INTO customers_tables(name,product_id)\n",
    "##### VALUES (\"if\", 3),\n",
    "##### ----- (\"You\", 4),\n",
    "##### ----- (\"see\", 1),\n",
    "##### ----- (\"kay\", 2)"
   ]
  },
  {
   "cell_type": "code",
   "execution_count": 10,
   "metadata": {},
   "outputs": [],
   "source": [
    "# ang result ng taas na code ay. \n",
    "\n",
    "# customers_table\n",
    "\n",
    "# customer_id  |   name |  product_id \n",
    "#   1          |   if   |      3\n",
    "#   2          |  you   |      4\n",
    "#   3          |  see   |      1\n",
    "#   4          |  kay   |      2\n"
   ]
  },
  {
   "cell_type": "code",
   "execution_count": 5,
   "metadata": {},
   "outputs": [],
   "source": [
    "# kunwari want mo ng copy ng table yung table sa baba, ganito gagawin mo\n",
    "\n",
    "# product_table\n",
    "\n",
    "# product_id  |   price  |  name \n",
    "\n",
    "#      1      |    1    |  Maysa\n",
    "#      2      |    6    |  Duwa\n",
    "#      3      |    3    |  Tallo\n",
    "#      4      |    2    |  Uppat"
   ]
  },
  {
   "cell_type": "markdown",
   "metadata": {},
   "source": [
    "##### CREATE TABLE copy_p.table AS\n",
    "##### SELECT *FROM product_table\n",
    "##### );"
   ]
  },
  {
   "cell_type": "code",
   "execution_count": 6,
   "metadata": {},
   "outputs": [],
   "source": [
    "# CREATE TABLE ---> means okay, gawa ka ng table. \n",
    "# copy_p.table ---> ito yung pangalan ng bagong table\n",
    "# AS ----> if gagawa ka ng new na table na walang patern, need mo \n",
    "#  ------> specify kung ano yung mga column names. sa case natin want nating\n",
    "# -------> e-copy yung table na product_table\n",
    "# SELECT * FROM product_table ---> kunin mo LAHAT sa product table. "
   ]
  },
  {
   "cell_type": "code",
   "execution_count": 1,
   "metadata": {},
   "outputs": [],
   "source": [
    "# ang result ng code sa taas ay,\n",
    "\n",
    "# copy_p._table\n",
    "\n",
    "# product_id  |   price  |  name \n",
    "\n",
    "#      1      |    1    |  Maysa\n",
    "#      2      |    6    |  Duwa\n",
    "#      3      |    3    |  Tallo\n",
    "#      4      |    2    |  Uppat"
   ]
  },
  {
   "cell_type": "markdown",
   "metadata": {},
   "source": [
    "# Sub queries"
   ]
  },
  {
   "cell_type": "code",
   "execution_count": 3,
   "metadata": {},
   "outputs": [],
   "source": [
    "# may mga times na yung mga queries e part ng iba pang queries. \n",
    "\n",
    "# kunwari gagawa ka ng table, then from that table kailangan mong kunin yung mga specific na data doon sa table. \n",
    "\n",
    "# sa pagkuha mo ng mga info sa table, kailangan mo ng mga queries. hehehe. so nagkakaroon ka ng subqueries. "
   ]
  },
  {
   "cell_type": "markdown",
   "metadata": {},
   "source": [
    "# UPDATE Clause"
   ]
  },
  {
   "cell_type": "code",
   "execution_count": 4,
   "metadata": {},
   "outputs": [],
   "source": [
    "# ginagamit ang update clause if meron kang e-update na data sa tables mo"
   ]
  },
  {
   "cell_type": "code",
   "execution_count": 5,
   "metadata": {},
   "outputs": [],
   "source": [
    "# Syntax"
   ]
  },
  {
   "cell_type": "code",
   "execution_count": 6,
   "metadata": {},
   "outputs": [],
   "source": [
    "# UPDATE table_name\n",
    "# SET column1 = value1, column2 = value2, ...\n",
    "# WHERE condition;"
   ]
  },
  {
   "cell_type": "code",
   "execution_count": 7,
   "metadata": {},
   "outputs": [],
   "source": [
    "# Example: Kailangan nating palitan yung mga null values natin\n",
    "\n",
    "# table_a\n",
    "\n",
    "# product_id  |   price  |  name \n",
    "\n",
    "#      1      |    1    |  Maysa\n",
    "#      2      |    6    |  Duwa\n",
    "#      3      |    3    |  Tallo\n",
    "#      4      |    Null |  Nulll"
   ]
  },
  {
   "cell_type": "markdown",
   "metadata": {},
   "source": [
    "##### UPDATE table_a\n",
    "##### SET price = 2, name = \"Uppat\"\n",
    "##### WHERE product_id = 4"
   ]
  },
  {
   "cell_type": "code",
   "execution_count": 8,
   "metadata": {},
   "outputs": [],
   "source": [
    "# ito ang magiging result ng code sa taas. \n",
    "\n",
    "# table_a\n",
    "\n",
    "# product_id  |   price  |  name \n",
    "\n",
    "#      1      |    1    |  Maysa\n",
    "#      2      |    6    |  Duwa\n",
    "#      3      |    3    |  Tallo\n",
    "#      4      |    2    |  Uppat"
   ]
  },
  {
   "cell_type": "markdown",
   "metadata": {},
   "source": [
    "# The SQL DELETE Statement\n",
    "### The DELETE statement is used to delete existing records in a table.\n",
    "\n",
    "##### DELETE Syntax"
   ]
  },
  {
   "cell_type": "markdown",
   "metadata": {},
   "source": [
    "#### DELETE FROM table_name WHERE condition;"
   ]
  },
  {
   "cell_type": "markdown",
   "metadata": {},
   "source": [
    "# The SQL CREATE DATABASE Statement\n",
    "###### The CREATE DATABASE statement is used to create a new SQL database.\n",
    "\n",
    "##### Syntax\n",
    "##### CREATE DATABASE databasename;"
   ]
  },
  {
   "cell_type": "markdown",
   "metadata": {},
   "source": [
    "# The SQL DROP DATABASE Statement\n",
    "###### The DROP DATABASE statement is used to delete a SQL database.\n",
    "\n",
    "##### Syntax\n",
    "##### DROP DATABASE databasename;"
   ]
  },
  {
   "cell_type": "code",
   "execution_count": null,
   "metadata": {},
   "outputs": [],
   "source": []
  }
 ],
 "metadata": {
  "kernelspec": {
   "display_name": "Python 3",
   "language": "python",
   "name": "python3"
  },
  "language_info": {
   "codemirror_mode": {
    "name": "ipython",
    "version": 3
   },
   "file_extension": ".py",
   "mimetype": "text/x-python",
   "name": "python",
   "nbconvert_exporter": "python",
   "pygments_lexer": "ipython3",
   "version": "3.7.0"
  }
 },
 "nbformat": 4,
 "nbformat_minor": 2
}
